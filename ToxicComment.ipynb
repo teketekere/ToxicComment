{
 "cells": [
  {
   "cell_type": "code",
   "execution_count": 1,
   "metadata": {
    "collapsed": false
   },
   "outputs": [
    {
     "ename": "SyntaxError",
     "evalue": "Missing parentheses in call to 'print' (<ipython-input-1-30e4b86b37e6>, line 18)",
     "output_type": "error",
     "traceback": [
      "\u001b[0;36m  File \u001b[0;32m\"<ipython-input-1-30e4b86b37e6>\"\u001b[0;36m, line \u001b[0;32m18\u001b[0m\n\u001b[0;31m    print tag\u001b[0m\n\u001b[0m            ^\u001b[0m\n\u001b[0;31mSyntaxError\u001b[0m\u001b[0;31m:\u001b[0m Missing parentheses in call to 'print'\n"
     ]
    }
   ],
   "source": [
    "import collections\n",
    "import pandas as pd\n",
    "import treetaggerwrapper\n",
    "import os\n",
    "\n",
    "data = pd.read_csv('./data/train.csv')\n",
    "\n",
    "attr = ['toxic', 'severe_toxic', 'obscene', 'threat', 'insult', 'identity_hate']\n",
    "for a in attr:\n",
    "    print(collections.Counter(data[a]))\n",
    "\n",
    "\n",
    " \n",
    "tagdir = os.getenv('TREETAGGER_ROOT')\n",
    "tagger = treetaggerwrapper.TreeTagger(TAGLANG='en',TAGDIR=tagdir)\n",
    "tags = tagger.TagText(u\"Save the time of the reader. SAMPLETEST. SampleTest.\")\n",
    "for tag in tags:\n",
    "    print tag"
   ]
  }
 ],
 "metadata": {
  "anaconda-cloud": {},
  "kernelspec": {
   "display_name": "Python [conda env:Anaconda3]",
   "language": "python",
   "name": "conda-env-Anaconda3-py"
  },
  "language_info": {
   "codemirror_mode": {
    "name": "ipython",
    "version": 3
   },
   "file_extension": ".py",
   "mimetype": "text/x-python",
   "name": "python",
   "nbconvert_exporter": "python",
   "pygments_lexer": "ipython3",
   "version": "3.5.2"
  }
 },
 "nbformat": 4,
 "nbformat_minor": 2
}
