{
 "cells": [
  {
   "cell_type": "code",
   "execution_count": null,
   "metadata": {
    "collapsed": false
   },
   "outputs": [
    {
     "name": "stderr",
     "output_type": "stream",
     "text": [
      "  0%|                                  | 102/159571 [01:19<34:20:32,  1.29it/s]"
     ]
    }
   ],
   "source": [
    "import collections\n",
    "import gensim\n",
    "import numpy as np\n",
    "import pandas as pd\n",
    "from tqdm import tqdm\n",
    "import treetaggerwrapper\n",
    "import os\n",
    "import warnings\n",
    "warnings.filterwarnings(action='ignore', category=UserWarning, module='gensim')\n",
    "\n",
    "\n",
    "def wakatiWithTT(txt):\n",
    "    tagdir = os.getenv('TREETAGGER_ROOT')\n",
    "    tagger = treetaggerwrapper.TreeTagger(TAGLANG='en', TAGDIR=tagdir)\n",
    "    tags = tagger.TagText(txt)\n",
    "    validPos = ['VV', 'NN', 'NP', 'JJ', 'VH']\n",
    "    extractedTag = list()\n",
    "    for tag in tags:\n",
    "        sptag = tag.split()\n",
    "        if (sptag[1][0: 2] in validPos):\n",
    "            extractedTag.append(sptag[2])\n",
    "    return extractedTag\n",
    "\n",
    "\n",
    "# train Data\n",
    "data = pd.read_csv('./data/train.csv')\n",
    "attrs = ['toxic', 'severe_toxic', 'obscene', 'threat', 'insult', 'identity_hate']\n",
    "\n",
    "tagdir = os.getenv('TREETAGGER_ROOT')\n",
    "tagger = treetaggerwrapper.TreeTagger(TAGLANG='en', TAGDIR=tagdir)\n",
    "wakati = [wakatiWithTT(d) for d in tqdm(data['comment_text'])]\n",
    "data['CommentTxtWakati'] = pd.Series(wakati)\n",
    "data.to_csv('./data/train_wakated.csv')\n"
   ]
  }
 ],
 "metadata": {
  "anaconda-cloud": {},
  "kernelspec": {
   "display_name": "Python [conda env:Anaconda3]",
   "language": "python",
   "name": "conda-env-Anaconda3-py"
  },
  "language_info": {
   "codemirror_mode": {
    "name": "ipython",
    "version": 3
   },
   "file_extension": ".py",
   "mimetype": "text/x-python",
   "name": "python",
   "nbconvert_exporter": "python",
   "pygments_lexer": "ipython3",
   "version": "3.5.2"
  }
 },
 "nbformat": 4,
 "nbformat_minor": 2
}
