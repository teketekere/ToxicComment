{
 "cells": [
  {
   "cell_type": "code",
   "execution_count": 2,
   "metadata": {
    "collapsed": false
   },
   "outputs": [
    {
     "name": "stdout",
     "output_type": "stream",
     "text": [
      "Counter({0: 144277, 1: 15294})\n",
      "Counter({0: 157976, 1: 1595})\n",
      "Counter({0: 151122, 1: 8449})\n",
      "Counter({0: 159093, 1: 478})\n",
      "Counter({0: 151694, 1: 7877})\n",
      "Counter({0: 158166, 1: 1405})\n"
     ]
    }
   ],
   "source": [
    "import numpy as np\n",
    "import pandas as pd\n",
    "\n",
    "\n",
    "# train Data\n",
    "data = pd.read_csv('./data/train_wakated.csv')\n",
    "attrs = ['toxic', 'severe_toxic', 'obscene', 'threat', 'insult', 'identity_hate']\n",
    "\n",
    "for a in attrs:\n",
    "    import collections\n",
    "    print(collections.Counter(data[a]))\n",
    "\n"
   ]
  },
  {
   "cell_type": "markdown",
   "metadata": {},
   "source": [
    "# ideamemo\n",
    "\n",
    "## 各Toxic属性毎にRegression or Classifierする"
   ]
  }
 ],
 "metadata": {
  "anaconda-cloud": {},
  "kernelspec": {
   "display_name": "Python [default]",
   "language": "python",
   "name": "python3"
  },
  "language_info": {
   "codemirror_mode": {
    "name": "ipython",
    "version": 3
   },
   "file_extension": ".py",
   "mimetype": "text/x-python",
   "name": "python",
   "nbconvert_exporter": "python",
   "pygments_lexer": "ipython3",
   "version": "3.5.2"
  }
 },
 "nbformat": 4,
 "nbformat_minor": 2
}
