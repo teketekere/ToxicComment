{
 "cells": [
  {
   "cell_type": "code",
   "execution_count": 7,
   "metadata": {
    "collapsed": false
   },
   "outputs": [
    {
     "name": "stderr",
     "output_type": "stream",
     "text": [
      "100%|████████████████████████████████████████| 500/500 [06:56<00:00,  1.20it/s]\n",
      "C:\\Users\\033041004\\AppData\\Local\\Continuum\\Anaconda3\\lib\\site-packages\\ipykernel\\__main__.py:26: SettingWithCopyWarning: \n",
      "A value is trying to be set on a copy of a slice from a DataFrame.\n",
      "Try using .loc[row_indexer,col_indexer] = value instead\n",
      "\n",
      "See the caveats in the documentation: http://pandas.pydata.org/pandas-docs/stable/indexing.html#indexing-view-versus-copy\n"
     ]
    }
   ],
   "source": [
    "import collections\n",
    "import gensim\n",
    "import numpy as np\n",
    "import pandas as pd\n",
    "from tqdm import tqdm\n",
    "import treetaggerwrapper\n",
    "import os\n",
    "import warnings\n",
    "warnings.filterwarnings(action='ignore', category=UserWarning, module='gensim')\n",
    "\n",
    "\n",
    "def wakatiWithTT(txt):\n",
    "    tagdir = os.getenv('TREETAGGER_ROOT')\n",
    "    tagger = treetaggerwrapper.TreeTagger(TAGLANG='en', TAGDIR=tagdir)\n",
    "    tags = tagger.TagText(txt)\n",
    "    extractedTag = [tag.split()[2]  for tag in tags]\n",
    "    return extractedTag\n",
    "\n",
    "\n",
    "# train Data\n",
    "data = pd.read_csv('./data/train.csv')\n",
    "attrs = ['toxic', 'severe_toxic', 'obscene', 'threat', 'insult', 'identity_hate']\n",
    "\n",
    "# wakati = [wakatiWithTT(d) for d in tqdm(data['comment_text'][0:500])]\n",
    "# trainData = data[0:500]\n",
    "# trainData['testwakati'] = wakati\n",
    "# trainData.to_csv('./data/experiment.csv')"
   ]
  },
  {
   "cell_type": "code",
   "execution_count": 9,
   "metadata": {
    "collapsed": false
   },
   "outputs": [],
   "source": [
    "import pandas as pd\n",
    "\n",
    "\n",
    "data = pd.read_csv('./data/experiment.csv')\n",
    "attrs = ['toxic', 'severe_toxic', 'obscene', 'threat', 'insult', 'identity_hate']\n",
    "tags = list()\n",
    "\n",
    "for i in range(data['toxic'].size):\n",
    "    tag = ''\n",
    "    for a in attrs:\n",
    "        if(data.iloc[i][a] == 1):\n",
    "            tag += a + '-AND-'\n",
    "    if(tag == ''):\n",
    "        tag = 'normal'\n",
    "    tags.append(tag)\n",
    "data['tag'] = pd.Series(tags)\n",
    "data = data.drop('comment_text', axis=1)\n",
    "data.to_csv('./data/experiment2.csv')\n"
   ]
  },
  {
   "cell_type": "code",
   "execution_count": null,
   "metadata": {
    "collapsed": false
   },
   "outputs": [],
   "source": [
    "from gensim.models.doc2vec import Doc2Vec\n",
    "from gensim.models.doc2vec import TaggedDocument\n",
    "import pandas as pd\n",
    "\n",
    "\n",
    "data = pd.read_csv('./data/experiment2.csv')\n",
    "\n",
    "# traindataの準備\n",
    "trainData = list()\n",
    "for i in range(data['toxic'].size):\n",
    "    td = TaggedDocument(words=data.iloc[i]['testwakati'], tags=data.iloc[i]['tag'])\n",
    "    trainData.append(td)\n",
    "\n",
    "# learn\n",
    "model = Doc2Vec(documents=trainData, min_count=1, dm=0)\n",
    "model.save('./data/d2vSampleModel.model')\n",
    "print('finished')"
   ]
  }
 ],
 "metadata": {
  "anaconda-cloud": {},
  "kernelspec": {
   "display_name": "Python [conda env:Anaconda3]",
   "language": "python",
   "name": "conda-env-Anaconda3-py"
  },
  "language_info": {
   "codemirror_mode": {
    "name": "ipython",
    "version": 3
   },
   "file_extension": ".py",
   "mimetype": "text/x-python",
   "name": "python",
   "nbconvert_exporter": "python",
   "pygments_lexer": "ipython3",
   "version": "3.5.2"
  }
 },
 "nbformat": 4,
 "nbformat_minor": 2
}
