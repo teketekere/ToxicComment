{
 "cells": [
  {
   "cell_type": "code",
   "execution_count": 19,
   "metadata": {
    "collapsed": true
   },
   "outputs": [],
   "source": [
    "# tag生成\n",
    "import pandas as pd\n",
    "\n",
    "\n",
    "data = pd.read_csv('./data/testPreprocessed.csv')\n",
    "attrs = ['toxic', 'severe_toxic', 'obscene', 'threat', 'insult', 'identity_hate']\n",
    "tags = list()\n",
    "'''\n",
    "for i in range(data['toxic'].size):\n",
    "    tag = ''\n",
    "    for a in attrs:\n",
    "        if(data.iloc[i][a] == 1):\n",
    "            tag += a + '-AND-'\n",
    "    if(tag == ''):\n",
    "        tag = 'normal'\n",
    "    tags.append(tag)\n",
    "data['tag'] = pd.Series(tags)\n",
    "data.to_csv('./data/testPreprocessed.csv', index=False)\n",
    "'''"
   ]
  },
  {
   "cell_type": "code",
   "execution_count": 2,
   "metadata": {
    "collapsed": false
   },
   "outputs": [],
   "source": [
    "# D2V\n",
    "from gensim.models.doc2vec import Doc2Vec\n",
    "from gensim.models.doc2vec import TaggedDocument\n",
    "import pandas as pd\n",
    "import tqdm\n",
    "\n",
    "data = pd.read_csv('./traintestData/trainPreprocessed.csv')\n",
    "vocab = list()\n",
    "for i in range(data['id'].size):\n",
    "    tempstr = data['CommentTxtWakati'][i].replace('[', '')\n",
    "    tempstr = tempstr.replace(']', '')\n",
    "    tempstr = tempstr.replace('\\'', '')\n",
    "    tempstr = tempstr.replace(',', '')\n",
    "    tempstr = tempstr.split()\n",
    "    vocab.append(tempstr)\n",
    "\n",
    "# traindataの準備\n",
    "# trainData = [TaggedDocument(words=vocab[i], tags=data.iloc[i]['tag']) for i in tqdm.tqdm(range(data['id'].size))]\n",
    "\n",
    "# learn\n",
    "# print('start learning')\n",
    "# model = Doc2Vec(documents=trainData, size=400, min_count=5, iter=30)\n",
    "# model.save('./model/d2v.model')\n",
    "# print('finished')"
   ]
  },
  {
   "cell_type": "code",
   "execution_count": 20,
   "metadata": {
    "collapsed": false
   },
   "outputs": [
    {
     "data": {
      "text/plain": [
       "0    [explanation, edit, make, username, Hardcore, ...\n",
       "1    [match, background, colour, stick, thanks, tal...\n",
       "2    [try, edit, war, guy, remove, relevant, inform...\n",
       "3    [make, real, suggestion, improvement, wonder, ...\n",
       "4                  [sir, hero, chance, remember, page]\n",
       "dtype: object"
      ]
     },
     "execution_count": 20,
     "metadata": {},
     "output_type": "execute_result"
    }
   ],
   "source": [
    "# 文字列処理\n",
    "import pandas as pd\n",
    "\n",
    "train = pd.read_csv('./traintestData/trainPreprocessed.csv')\n",
    "\n",
    "vocab = list()\n",
    "for i in range(data['id'].size):\n",
    "    tempstr = data['CommentTxtWakati'][i].replace('[', '')\n",
    "    tempstr = tempstr.replace(']', '')\n",
    "    tempstr = tempstr.replace('\\'', '')\n",
    "    tempstr = tempstr.replace(',', '')\n",
    "    tempstr = tempstr.split()\n",
    "    vocab.append(tempstr)\n",
    "\n",
    "sample = pd.Series(vocab)\n",
    "sample.head()"
   ]
  },
  {
   "cell_type": "code",
   "execution_count": 3,
   "metadata": {
    "collapsed": false
   },
   "outputs": [
    {
     "name": "stdout",
     "output_type": "stream",
     "text": [
      "start learning\n",
      "finished\n"
     ]
    }
   ],
   "source": [
    "# W2V本体\n",
    "\n",
    "from gensim.models.word2vec import Word2Vec\n",
    "import pandas as pd\n",
    "\n",
    "train = pd.read_csv('./traintestData/trainPreprocessed.csv')\n",
    "test = pd.read_csv('./traintestData/testPreprocessed.csv')\n",
    "\n",
    "vocab = list()\n",
    "for j in range(2):\n",
    "    if(j == 0):\n",
    "        data = train\n",
    "    elif(j == 1):\n",
    "        data = test\n",
    "    for i in range(data['id'].size):\n",
    "        tempstr = data['CommentTxtWakati'][i].replace('[', '')\n",
    "        tempstr = tempstr.replace(']', '')\n",
    "        tempstr = tempstr.replace('\\'', '')\n",
    "        tempstr = tempstr.replace(',', '')\n",
    "        tempstr = tempstr.split()\n",
    "        vocab.append(tempstr)\n",
    "\n",
    "# learn\n",
    "print('start learning')\n",
    "size = 300\n",
    "model = Word2Vec(sentences=vocab, size=size, window=5, min_count=5, workers=4, iter=50)\n",
    "modelname = './model/w2v' + str(size) +  '.model'\n",
    "model.save(modelname)\n",
    "print('finished')\n"
   ]
  },
  {
   "cell_type": "markdown",
   "metadata": {},
   "source": [
    "# memo\n",
    "\n",
    "## タグの割合\n",
    "- trainデータ\n",
    "    - normal:143346\n",
    "    - other:16225\n",
    "Counter({'identity_hate-AND-': 54,\n",
    "         'insult-AND-': 301,\n",
    "         'insult-AND-identity_hate-AND-': 28,\n",
    "         'normal': 143346,\n",
    "         'obscene-AND-': 317,\n",
    "         'obscene-AND-identity_hate-AND-': 3,\n",
    "         'obscene-AND-insult-AND-': 181,\n",
    "         'obscene-AND-insult-AND-identity_hate-AND-': 18,\n",
    "         'obscene-AND-threat-AND-': 2,\n",
    "         'obscene-AND-threat-AND-insult-AND-': 2,\n",
    "         'threat-AND-': 22,\n",
    "         'threat-AND-insult-AND-': 3,\n",
    "         'toxic-AND-': 5666,\n",
    "         'toxic-AND-identity_hate-AND-': 136,\n",
    "         'toxic-AND-insult-AND-': 1215,\n",
    "         'toxic-AND-insult-AND-identity_hate-AND-': 134,\n",
    "         'toxic-AND-obscene-AND-': 1758,\n",
    "         'toxic-AND-obscene-AND-identity_hate-AND-': 35,\n",
    "         'toxic-AND-obscene-AND-insult-AND-': 3800,\n",
    "         'toxic-AND-obscene-AND-insult-AND-identity_hate-AND-': 618,\n",
    "         'toxic-AND-obscene-AND-threat-AND-': 11,\n",
    "         'toxic-AND-obscene-AND-threat-AND-insult-AND-': 131,\n",
    "         'toxic-AND-obscene-AND-threat-AND-insult-AND-identity_hate-AND-': 56,\n",
    "         'toxic-AND-severe_toxic-AND-': 41,\n",
    "         'toxic-AND-severe_toxic-AND-identity_hate-AND-': 3,\n",
    "         'toxic-AND-severe_toxic-AND-insult-AND-': 14,\n",
    "         'toxic-AND-severe_toxic-AND-insult-AND-identity_hate-AND-': 7,\n",
    "         'toxic-AND-severe_toxic-AND-obscene-AND-': 158,\n",
    "         'toxic-AND-severe_toxic-AND-obscene-AND-identity_hate-AND-': 6,\n",
    "         'toxic-AND-severe_toxic-AND-obscene-AND-insult-AND-': 989,\n",
    "         'toxic-AND-severe_toxic-AND-obscene-AND-insult-AND-identity_hate-AND-': 265,\n",
    "         'toxic-AND-severe_toxic-AND-obscene-AND-threat-AND-': 4,\n",
    "         'toxic-AND-severe_toxic-AND-obscene-AND-threat-AND-insult-AND-': 64,\n",
    "         'toxic-AND-severe_toxic-AND-obscene-AND-threat-AND-insult-AND-identity_hate-AND-': 31,\n",
    "         'toxic-AND-severe_toxic-AND-threat-AND-': 11,\n",
    "         'toxic-AND-severe_toxic-AND-threat-AND-identity_hate-AND-': 1,\n",
    "         'toxic-AND-severe_toxic-AND-threat-AND-insult-AND-': 1,\n",
    "         'toxic-AND-threat-AND-': 113,\n",
    "         'toxic-AND-threat-AND-identity_hate-AND-': 7,\n",
    "         'toxic-AND-threat-AND-insult-AND-': 16,\n",
    "         'toxic-AND-threat-AND-insult-AND-identity_hate-AND-': 3})"
   ]
  }
 ],
 "metadata": {
  "anaconda-cloud": {},
  "kernelspec": {
   "display_name": "Python [default]",
   "language": "python",
   "name": "python3"
  },
  "language_info": {
   "codemirror_mode": {
    "name": "ipython",
    "version": 3
   },
   "file_extension": ".py",
   "mimetype": "text/x-python",
   "name": "python",
   "nbconvert_exporter": "python",
   "pygments_lexer": "ipython3",
   "version": "3.5.2"
  }
 },
 "nbformat": 4,
 "nbformat_minor": 2
}
